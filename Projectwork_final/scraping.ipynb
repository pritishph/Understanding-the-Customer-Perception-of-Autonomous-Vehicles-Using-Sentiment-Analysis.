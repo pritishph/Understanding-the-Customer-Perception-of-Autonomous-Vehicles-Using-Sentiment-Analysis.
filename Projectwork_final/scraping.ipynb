{
 "cells": [
  {
   "cell_type": "code",
   "execution_count": null,
   "metadata": {},
   "outputs": [],
   "source": [
    "pip install tweepy"
   ]
  },
  {
   "cell_type": "code",
   "execution_count": null,
   "metadata": {},
   "outputs": [],
   "source": [
    "import tweepy\n",
    "import pandas as pd\n",
    "\n",
    "# Twitter API credentials\n",
    "consumer_key = \"consumer_key\"\n",
    "consumer_secret = \"xyz\"\n",
    "access_token = \"xy\"\n",
    "access_token_secret = \"access_token_secret\"\n",
    "\n",
    "# Authenticate\n",
    "auth = tweepy.OAuth1UserHandler(consumer_key, consumer_secret, access_token, access_token_secret)\n",
    "api = tweepy.API(auth, wait_on_rate_limit=True, wait_on_rate_limit_notify=True)\n",
    "\n",
    "# Function to scrape tweets\n",
    "def scrape_tweets(query, max_tweets=80000):\n",
    "    tweets_data = {\n",
    "        'Date': [],\n",
    "        'Tweet_Id': [],\n",
    "        'Tweet': []\n",
    "    }\n",
    "    for tweet in tweepy.Cursor(api.search, q=query, tweet_mode='extended').items(max_tweets):\n",
    "        tweets_data['Date'].append(tweet.created_at)\n",
    "        tweets_data['Tweet_Id'].append(tweet.id_str)\n",
    "        tweets_data['Tweet'].append(tweet.full_text)\n",
    "    return pd.DataFrame(tweets_data)\n",
    "\n",
    "# Define your search query here\n",
    "query = 'Autonomous Vehicles'\n",
    "\n",
    "# Scrape tweets\n",
    "tweets_df = scrape_tweets(query)\n",
    "print(tweets_df.head())\n"
   ]
  }
 ],
 "metadata": {
  "language_info": {
   "name": "python"
  }
 },
 "nbformat": 4,
 "nbformat_minor": 2
}
